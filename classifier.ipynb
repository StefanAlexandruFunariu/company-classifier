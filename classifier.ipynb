{
 "cells": [
  {
   "cell_type": "markdown",
   "id": "f300e403",
   "metadata": {},
   "source": [
    "# 🛡️ Insurance Company Classifier\n",
    "This notebook builds a fast, TF-IDF-based classification pipeline for mapping companies to relevant insurance taxonomy labels based on their descriptions and metadata."
   ]
  },
  {
   "cell_type": "code",
   "execution_count": null,
   "id": "4e46ebbf",
   "metadata": {},
   "outputs": [],
   "source": [
    "# --- Imports ---\n",
    "import pandas as pd\n",
    "import re\n",
    "import ast\n",
    "from sklearn.feature_extraction.text import TfidfVectorizer\n",
    "from sklearn.metrics.pairwise import cosine_similarity"
   ]
  },
  {
   "cell_type": "markdown",
   "id": "052efe36",
   "metadata": {},
   "source": [
    "## 📥 Load Data"
   ]
  },
  {
   "cell_type": "code",
   "execution_count": null,
   "id": "24a93c70",
   "metadata": {},
   "outputs": [],
   "source": [
    "# Load company and taxonomy files\n",
    "companies = pd.read_csv(\"../data/ml_insurance_challenge.csv\")\n",
    "taxonomy = pd.read_excel(\"../data/insurance_taxonomy.xlsx\")"
   ]
  },
  {
   "cell_type": "markdown",
   "id": "a33ad80b",
   "metadata": {},
   "source": [
    "## 🧹 Preprocessing"
   ]
  },
  {
   "cell_type": "code",
   "execution_count": null,
   "id": "eb29d5ce",
   "metadata": {},
   "outputs": [],
   "source": [
    "# Helper functions to clean and normalize text\n",
    "def clean_text(text):\n",
    "    if pd.isnull(text):\n",
    "        return \"\"\n",
    "    text = text.lower()\n",
    "    text = re.sub(r\"[^a-z0-9\\s]\", \" \", text)\n",
    "    text = re.sub(r\"\\s+\", \" \", text).strip()\n",
    "    return text\n",
    "\n",
    "# Convert stringified lists to Python lists\n",
    "def parse_tags(tag_str):\n",
    "    try:\n",
    "        tags = ast.literal_eval(tag_str)\n",
    "        if isinstance(tags, list):\n",
    "            return tags\n",
    "    except:\n",
    "        pass\n",
    "    return []\n",
    "\n",
    "# Clean all relevant fields\n",
    "companies[\"description_clean\"] = companies[\"description\"].apply(clean_text)\n",
    "companies[\"business_tags_clean\"] = companies[\"business_tags\"].apply(parse_tags).apply(\n",
    "    lambda tags: \" \".join([clean_text(tag) for tag in tags])\n",
    ")\n",
    "companies[\"sector_clean\"] = companies[\"sector\"].apply(clean_text)\n",
    "companies[\"category_clean\"] = companies[\"category\"].apply(clean_text)\n",
    "companies[\"niche_clean\"] = companies[\"niche\"].apply(clean_text)\n",
    "\n",
    "# Combine into one text block for feature input\n",
    "companies[\"combined_text\"] = (\n",
    "    companies[\"description_clean\"] + \" \" +\n",
    "    companies[\"business_tags_clean\"] + \" \" +\n",
    "    companies[\"sector_clean\"] + \" \" +\n",
    "    companies[\"category_clean\"] + \" \" +\n",
    "    companies[\"niche_clean\"]\n",
    ")"
   ]
  },
  {
   "cell_type": "markdown",
   "id": "05733c1f",
   "metadata": {},
   "source": [
    "## 🧠 TF-IDF Vectorization and Similarity"
   ]
  },
  {
   "cell_type": "code",
   "execution_count": null,
   "id": "01af2a5f",
   "metadata": {},
   "outputs": [],
   "source": [
    "# Prepare taxonomy labels\n",
    "taxonomy_labels = taxonomy[\"label\"].dropna().unique()\n",
    "taxonomy_labels_clean = [clean_text(label) for label in taxonomy_labels]\n",
    "\n",
    "# Combine all text inputs (company + labels)\n",
    "all_text = list(companies[\"combined_text\"]) + taxonomy_labels_clean\n",
    "\n",
    "# Fit TF-IDF model\n",
    "vectorizer = TfidfVectorizer(max_features=10000, stop_words='english')\n",
    "tfidf_matrix = vectorizer.fit_transform(all_text)\n",
    "\n",
    "# Separate company and label vectors\n",
    "company_tfidf = tfidf_matrix[:len(companies)]\n",
    "label_tfidf = tfidf_matrix[len(companies):]\n",
    "\n",
    "# Compute cosine similarity between each company and label\n",
    "similarity_matrix = cosine_similarity(company_tfidf, label_tfidf)"
   ]
  },
  {
   "cell_type": "markdown",
   "id": "3ac886ab",
   "metadata": {},
   "source": [
    "## 🎯 Predict Top Labels"
   ]
  },
  {
   "cell_type": "code",
   "execution_count": null,
   "id": "f00a0285",
   "metadata": {},
   "outputs": [],
   "source": [
    "# Get top 3 label indices for each company\n",
    "top_k = 3\n",
    "top_labels = similarity_matrix.argsort(axis=1)[:, -top_k:][:, ::-1]  # Top K indices per row\n",
    "\n",
    "# Map indices to label names\n",
    "top_label_names = [[taxonomy_labels_clean[i] for i in row] for row in top_labels]\n",
    "\n",
    "# Add predictions to DataFrame\n",
    "companies[\"top_label_1\"] = [labels[0] for labels in top_label_names]\n",
    "companies[\"top_label_2\"] = [labels[1] for labels in top_label_names]\n",
    "companies[\"top_label_3\"] = [labels[2] for labels in top_label_names]\n",
    "companies[\"insurance_label\"] = companies[\"top_label_1\"] + \", \" + \\\n",
    "                                 companies[\"top_label_2\"] + \", \" + \\\n",
    "                                 companies[\"top_label_3\"]"
   ]
  },
  {
   "cell_type": "markdown",
   "id": "2e6f5b44",
   "metadata": {},
   "source": [
    "## 💾 Export Annotated List"
   ]
  },
  {
   "cell_type": "code",
   "execution_count": null,
   "id": "01fe4dc9",
   "metadata": {},
   "outputs": [],
   "source": [
    "# Save annotated file with predicted insurance labels\n",
    "output_df = companies[[\n",
    "    \"description\", \"business_tags\", \"sector\", \"category\", \"niche\", \"insurance_label\"\n",
    "]]\n",
    "output_df.to_csv(\"../data/annotated_company_list.csv\", index=False)"
   ]
  }
 ],
 "metadata": {},
 "nbformat": 4,
 "nbformat_minor": 5
}